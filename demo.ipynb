{
 "cells": [
  {
   "cell_type": "code",
   "execution_count": 1,
   "metadata": {},
   "outputs": [],
   "source": [
    "from microrender.point import Point\n",
    "from microrender.window import Window\n",
    "from microrender.vertices import Vertices\n",
    "\n",
    "window = Window(50, 50)\n",
    "vertices = Vertices(\n",
    "    [\n",
    "        Point(0.25, 0.0, 0.0),\n",
    "        Point(-0.25, 0.0, 0.0),\n",
    "        Point(0.0, 0.25, 0.0),\n",
    "        Point(0.0, -0.25, 0.0),\n",
    "    ]\n",
    ")\n",
    "axis = Point(0, 0.0, 1.0).normalize()"
   ]
  },
  {
   "cell_type": "code",
   "execution_count": 2,
   "metadata": {},
   "outputs": [
    {
     "data": {
      "image/jpeg": "[encoded data removed]",
      "image/png": "[encoded data removed]",
      "text/plain": [
       "<PIL.Image.Image image mode=RGB size=50x50>"
      ]
     },
     "metadata": {},
     "output_type": "display_data"
    },
    {
     "name": "stdout",
     "output_type": "stream",
     "text": [
      "a=0.9950041652780258, b=0.0, c=0.0, d=0.09983341664682815\n"
     ]
    }
   ],
   "source": [
    "display(window.render(vertices, 1000))\n",
    "vertices.rotate(axis, 0.2)"
   ]
  }
 ],
 "metadata": {
  "kernelspec": {
   "display_name": "Python 3",
   "language": "python",
   "name": "python3"
  },
  "language_info": {
   "codemirror_mode": {
    "name": "ipython",
    "version": 3
   },
   "file_extension": ".py",
   "mimetype": "text/x-python",
   "name": "python",
   "nbconvert_exporter": "python",
   "pygments_lexer": "ipython3",
   "version": "3.10.13"
  },
  "orig_nbformat": 4
 },
 "nbformat": 4,
 "nbformat_minor": 2
}
